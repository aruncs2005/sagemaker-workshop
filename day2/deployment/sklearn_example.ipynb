{
 "cells": [
  {
   "cell_type": "markdown",
   "metadata": {},
   "source": [
    "## Deploy to a real-time endpoint"
   ]
  },
  {
   "cell_type": "markdown",
   "metadata": {},
   "source": [
    "### Deploy with Python SDK"
   ]
  },
  {
   "cell_type": "markdown",
   "metadata": {},
   "source": [
    "An `Estimator` could be deployed directly after training, with an `Estimator.deploy()` but here we showcase the more extensive process of creating a model from s3 artifacts, that could be used to deploy a model that was trained in a different session or even out of SageMaker."
   ]
  },
  {
   "cell_type": "code",
   "execution_count": 5,
   "metadata": {},
   "outputs": [],
   "source": [
    "import boto3\n",
    "from sagemaker import get_execution_role\n",
    "import sagemaker\n",
    "\n",
    "sm_boto3 = boto3.client('sagemaker')\n",
    "\n",
    "sess = sagemaker.Session()\n",
    "\n",
    "FRAMEWORK_VERSION = '0.23-1'"
   ]
  },
  {
   "cell_type": "code",
   "execution_count": 6,
   "metadata": {},
   "outputs": [
    {
     "name": "stdout",
     "output_type": "stream",
     "text": [
      "Model artifact persisted at s3://sagemaker-us-west-1-365792799466/RF-tuner-210303-1606-008-927dd354/output/model.tar.gz\n"
     ]
    }
   ],
   "source": [
    "training_job_name = \"RF-tuner-210303-1606-008-927dd354\"\n",
    "artifact = sm_boto3.describe_training_job(\n",
    "    TrainingJobName=training_job_name)['ModelArtifacts']['S3ModelArtifacts']\n",
    "\n",
    "print('Model artifact persisted at ' + artifact)"
   ]
  },
  {
   "cell_type": "code",
   "execution_count": 7,
   "metadata": {},
   "outputs": [],
   "source": [
    "from sagemaker.sklearn.model import SKLearnModel\n",
    "\n",
    "model = SKLearnModel(\n",
    "    model_data=artifact,\n",
    "    role=get_execution_role(),\n",
    "    entry_point='script.py',\n",
    "    framework_version=FRAMEWORK_VERSION)"
   ]
  },
  {
   "cell_type": "code",
   "execution_count": 9,
   "metadata": {},
   "outputs": [
    {
     "name": "stdout",
     "output_type": "stream",
     "text": [
      "-----------------!"
     ]
    }
   ],
   "source": [
    "predictor = model.deploy(\n",
    "    instance_type='ml.t2.medium',\n",
    "    initial_instance_count=1)"
   ]
  },
  {
   "cell_type": "markdown",
   "metadata": {},
   "source": [
    "### Invoke with the Python SDK"
   ]
  },
  {
   "cell_type": "code",
   "execution_count": 11,
   "metadata": {},
   "outputs": [
    {
     "name": "stdout",
     "output_type": "stream",
     "text": [
      "Using bucket sagemaker-us-west-1-365792799466\n"
     ]
    }
   ],
   "source": [
    "import datetime\n",
    "import time\n",
    "import tarfile\n",
    "\n",
    "import boto3\n",
    "import pandas as pd\n",
    "import numpy as np\n",
    "from sagemaker import get_execution_role\n",
    "import sagemaker\n",
    "from sklearn.model_selection import train_test_split\n",
    "from sklearn.datasets import load_boston\n",
    "\n",
    "\n",
    "sm_boto3 = boto3.client('sagemaker')\n",
    "\n",
    "sess = sagemaker.Session()\n",
    "\n",
    "region = sess.boto_session.region_name\n",
    "\n",
    "bucket = sess.default_bucket()  # this could also be a hard-coded bucket name\n",
    "\n",
    "print('Using bucket ' + bucket)\n",
    "\n",
    "# we use the Boston housing dataset \n",
    "data = load_boston()\n",
    "\n",
    "X_train, X_test, y_train, y_test = train_test_split(\n",
    "    data.data, data.target, test_size=0.25, random_state=42)\n",
    "\n",
    "trainX = pd.DataFrame(X_train, columns=data.feature_names)\n",
    "trainX['target'] = y_train\n",
    "\n",
    "testX = pd.DataFrame(X_test, columns=data.feature_names)\n",
    "testX['target'] = y_test\n"
   ]
  },
  {
   "cell_type": "code",
   "execution_count": 12,
   "metadata": {},
   "outputs": [
    {
     "name": "stdout",
     "output_type": "stream",
     "text": [
      "[23.16920942 32.15828685 16.50942366 24.07429417 17.16555197 21.1998417\n",
      " 19.29227288 15.7307995  20.96383677 21.13370338 19.39466318 19.78174356\n",
      "  8.39423967 21.55040396 20.11220673 27.13923488 18.18162667  8.81443018\n",
      " 44.32863202 15.20816613 24.15842348 23.9706319  15.02521982 23.6974462\n",
      " 14.61674858 15.25011126 21.24043037 14.6236045  19.35731711 20.78159795\n",
      " 19.82000884 23.56228987 28.14442107 20.8264674  14.53748271 15.77383415\n",
      " 35.84300106 19.80514047 20.7594846  24.17252452 19.21432294 29.00699257\n",
      " 44.36556364 19.62437325 22.67122216 14.12152853 15.64635549 24.21466759\n",
      " 18.42225787 28.7422653  20.95245021 34.31429461 16.81095781 26.43608613\n",
      " 45.50720732 21.25199084 15.61377742 33.11559341 22.14910967 20.34006623\n",
      " 25.25066041 34.67889479 31.77414764 19.28390668 27.61154228 16.51844048\n",
      " 13.16436097 23.25194464 29.17577577 15.47115818 20.52625905 26.81027485\n",
      "  9.88534815 22.9849072  21.73566246  8.57009734 19.70447606 44.36963202\n",
      " 11.58589946 14.15743585 21.41942367 11.54895008 20.33319231  9.47187068\n",
      " 21.18715661 26.94685388 16.01491881 23.74054327 23.91517198 17.33819378\n",
      " 22.13526998  8.53162333 19.40721574 19.71275993 27.97239374 19.42333207\n",
      " 24.52667635 10.85859382 12.29642994 11.86482869 20.71983636 23.27995921\n",
      " 13.01718108 19.83432346 22.26079764 13.37623393 19.20701533 25.71483332\n",
      " 20.58552032 23.70183569  8.90773657 15.17876562 22.81110969 22.74673455\n",
      " 30.92331209 14.30892148 41.25552654 16.18611779 20.319796   24.24615069\n",
      " 19.53731145 24.45771302  9.74996665 20.6660227  24.64291755 22.26218302\n",
      " 23.79172756]\n"
     ]
    }
   ],
   "source": [
    "# the SKLearnPredictor does the serialization from pandas for us\n",
    "print(predictor.predict(testX[data.feature_names]))"
   ]
  },
  {
   "cell_type": "markdown",
   "metadata": {},
   "source": [
    "### Alternative: invoke with `boto3`"
   ]
  },
  {
   "cell_type": "code",
   "execution_count": 13,
   "metadata": {},
   "outputs": [],
   "source": [
    "runtime = boto3.client('sagemaker-runtime')"
   ]
  },
  {
   "cell_type": "markdown",
   "metadata": {},
   "source": [
    "#### Option 1: `csv` serialization"
   ]
  },
  {
   "cell_type": "code",
   "execution_count": 14,
   "metadata": {},
   "outputs": [
    {
     "name": "stderr",
     "output_type": "stream",
     "text": [
      "The endpoint attribute has been renamed in sagemaker>=2.\n",
      "See: https://sagemaker.readthedocs.io/en/stable/v2.html for details.\n"
     ]
    },
    {
     "name": "stdout",
     "output_type": "stream",
     "text": [
      "b'[23.16920941897799, 32.158286848419905, 16.509423658286156, 24.07429416852908, 17.165551967129016, 21.199841703184163, 19.292272883105994, 15.730799496444384, 20.963836774530076, 21.13370337846278, 19.394663184738377, 19.7817435561055, 8.394239670958562, 21.550403963043326, 20.112206732771003, 27.13923488286309, 18.181626666384872, 8.814430177980775, 44.32863201912467, 15.208166134656535, 24.158423475814505, 23.970631903803113, 15.025219817171132, 23.697446200123412, 14.61674858499344, 15.250111257069381, 21.240430369226573, 14.623604503421419, 19.35731711398337, 20.78159795115016, 19.820008837384258, 23.56228986683681, 28.144421068504077, 20.826467396372124, 14.537482706638048, 15.773834149360276, 35.84300106389139, 19.805140470236676, 20.759484600040484, 24.172524521475246, 19.214322939048508, 29.006992568989336, 44.36556364305629, 19.624373253771516, 22.67122216179932, 14.121528530031206, 15.646355492851661, 24.21466759076387, 18.42225787432943, 28.742265302280273, 20.95245020738635, 34.314294611554594, 16.810957807852624, 26.43608612515795, 45.507207321862005, 21.25199084492649, 15.613777418264569, 33.11559340520591, 22.149109670330535, 20.340066233130468, 25.250660406140124, 34.67889479335164, 31.774147639293115, 19.283906681553738, 27.611542282459528, 16.518440481744033, 13.164360974958136, 23.251944644953245, 29.17577576965947, 15.471158179892003, 20.526259050010015, 26.810274851301088, 9.88534814688665, 22.98490720178515, 21.735662463697295, 8.570097341607486, 19.704476060463445, 44.36963201912467, 11.585899461159757, 14.157435853894986, 21.419423671104433, 11.548950081675295, 20.33319231261086, 9.471870676500144, 21.187156608338338, 26.946853882383536, 16.014918807864824, 23.740543270480625, 23.915171983546024, 17.33819378295852, 22.13526997984387, 8.531623333864282, 19.407215743647473, 19.712759934789158, 27.972393742695225, 19.423332067236167, 24.526676345876343, 10.85859381818045, 12.296429943714697, 11.864828691651486, 20.71983635598578, 23.27995921487782, 13.017181083039775, 19.834323461333987, 22.26079763728273, 13.376233926363454, 19.20701532984988, 25.71483331897291, 20.58552032337288, 23.70183569201678, 8.907736571737516, 15.178765616843599, 22.81110968721662, 22.746734549381646, 30.923312092469796, 14.308921480544738, 41.255526542566486, 16.186117786854123, 20.3197959970499, 24.246150693591755, 19.537311453252627, 24.457713015987288, 9.74996665102871, 20.666022701563133, 24.642917548979895, 22.262183016995913, 23.791727560545752]'\n"
     ]
    }
   ],
   "source": [
    "# csv serialization\n",
    "response = runtime.invoke_endpoint(\n",
    "    EndpointName=predictor.endpoint,\n",
    "    Body=testX[data.feature_names].to_csv(header=False, index=False).encode('utf-8'),\n",
    "    ContentType='text/csv')\n",
    "\n",
    "print(response['Body'].read())"
   ]
  },
  {
   "cell_type": "markdown",
   "metadata": {},
   "source": [
    "#### Option 2: `npy` serialization"
   ]
  },
  {
   "cell_type": "code",
   "execution_count": 15,
   "metadata": {},
   "outputs": [
    {
     "name": "stderr",
     "output_type": "stream",
     "text": [
      "The endpoint attribute has been renamed in sagemaker>=2.\n",
      "See: https://sagemaker.readthedocs.io/en/stable/v2.html for details.\n"
     ]
    },
    {
     "name": "stdout",
     "output_type": "stream",
     "text": [
      "b'[23.16920941897799, 32.158286848419905, 16.509423658286156, 24.07429416852908, 17.165551967129016, 21.199841703184163, 19.292272883105994, 15.730799496444384, 20.963836774530076, 21.13370337846278, 19.394663184738377, 19.7817435561055, 8.394239670958562, 21.550403963043326, 20.112206732771003, 27.13923488286309, 18.181626666384872, 8.814430177980775, 44.32863201912467, 15.208166134656535, 24.158423475814505, 23.970631903803113, 15.025219817171132, 23.697446200123412, 14.61674858499344, 15.250111257069381, 21.240430369226573, 14.623604503421419, 19.35731711398337, 20.78159795115016, 19.820008837384258, 23.56228986683681, 28.144421068504077, 20.826467396372124, 14.537482706638048, 15.773834149360276, 35.84300106389139, 19.805140470236676, 20.759484600040484, 24.172524521475246, 19.214322939048508, 29.006992568989336, 44.36556364305629, 19.624373253771516, 22.67122216179932, 14.121528530031206, 15.646355492851661, 24.21466759076387, 18.42225787432943, 28.742265302280273, 20.95245020738635, 34.314294611554594, 16.810957807852624, 26.43608612515795, 45.507207321862005, 21.25199084492649, 15.613777418264569, 33.11559340520591, 22.149109670330535, 20.340066233130468, 25.250660406140124, 34.67889479335164, 31.774147639293115, 19.283906681553738, 27.611542282459528, 16.518440481744033, 13.164360974958136, 23.251944644953245, 29.17577576965947, 15.471158179892003, 20.526259050010015, 26.810274851301088, 9.88534814688665, 22.98490720178515, 21.735662463697295, 8.570097341607486, 19.704476060463445, 44.36963201912467, 11.585899461159757, 14.157435853894986, 21.419423671104433, 11.548950081675295, 20.33319231261086, 9.471870676500144, 21.187156608338338, 26.946853882383536, 16.014918807864824, 23.740543270480625, 23.915171983546024, 17.33819378295852, 22.13526997984387, 8.531623333864282, 19.407215743647473, 19.712759934789158, 27.972393742695225, 19.423332067236167, 24.526676345876343, 10.85859381818045, 12.296429943714697, 11.864828691651486, 20.71983635598578, 23.27995921487782, 13.017181083039775, 19.834323461333987, 22.26079763728273, 13.376233926363454, 19.20701532984988, 25.71483331897291, 20.58552032337288, 23.70183569201678, 8.907736571737516, 15.178765616843599, 22.81110968721662, 22.746734549381646, 30.923312092469796, 14.308921480544738, 41.255526542566486, 16.186117786854123, 20.3197959970499, 24.246150693591755, 19.537311453252627, 24.457713015987288, 9.74996665102871, 20.666022701563133, 24.642917548979895, 22.262183016995913, 23.791727560545752]'\n"
     ]
    }
   ],
   "source": [
    "# npy serialization\n",
    "from io import BytesIO\n",
    "\n",
    "\n",
    "#Serialise numpy ndarray as bytes\n",
    "buffer = BytesIO()\n",
    "# Assuming testX is a data frame\n",
    "np.save(buffer, testX[data.feature_names].values)\n",
    "\n",
    "response = runtime.invoke_endpoint(\n",
    "    EndpointName=predictor.endpoint,\n",
    "    Body=buffer.getvalue(),\n",
    "    ContentType='application/x-npy')\n",
    "\n",
    "print(response['Body'].read())"
   ]
  },
  {
   "cell_type": "markdown",
   "metadata": {},
   "source": [
    "## Don't forget to delete the endpoint !"
   ]
  },
  {
   "cell_type": "code",
   "execution_count": 16,
   "metadata": {},
   "outputs": [
    {
     "name": "stderr",
     "output_type": "stream",
     "text": [
      "The endpoint attribute has been renamed in sagemaker>=2.\n",
      "See: https://sagemaker.readthedocs.io/en/stable/v2.html for details.\n"
     ]
    },
    {
     "data": {
      "text/plain": [
       "{'ResponseMetadata': {'RequestId': '77c8cfea-e973-41d6-8089-ca3082c59ec7',\n",
       "  'HTTPStatusCode': 200,\n",
       "  'HTTPHeaders': {'x-amzn-requestid': '77c8cfea-e973-41d6-8089-ca3082c59ec7',\n",
       "   'content-type': 'application/x-amz-json-1.1',\n",
       "   'content-length': '0',\n",
       "   'date': 'Wed, 03 Mar 2021 18:27:15 GMT'},\n",
       "  'RetryAttempts': 0}}"
      ]
     },
     "execution_count": 16,
     "metadata": {},
     "output_type": "execute_result"
    }
   ],
   "source": [
    "sm_boto3.delete_endpoint(EndpointName=predictor.endpoint)"
   ]
  },
  {
   "cell_type": "code",
   "execution_count": null,
   "metadata": {},
   "outputs": [],
   "source": []
  }
 ],
 "metadata": {
  "instance_type": "ml.t3.medium",
  "kernelspec": {
   "display_name": "Python 3 (Data Science)",
   "language": "python",
   "name": "python3__SAGEMAKER_INTERNAL__arn:aws:sagemaker:us-west-1:742091327244:image/datascience-1.0"
  },
  "language_info": {
   "codemirror_mode": {
    "name": "ipython",
    "version": 3
   },
   "file_extension": ".py",
   "mimetype": "text/x-python",
   "name": "python",
   "nbconvert_exporter": "python",
   "pygments_lexer": "ipython3",
   "version": "3.7.6"
  }
 },
 "nbformat": 4,
 "nbformat_minor": 4
}
